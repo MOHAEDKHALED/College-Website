{
 "cells": [
  {
   "cell_type": "markdown",
   "id": "f3742783",
   "metadata": {
    "papermill": {
     "duration": 0.005655,
     "end_time": "2023-07-19T10:52:21.108208",
     "exception": false,
     "start_time": "2023-07-19T10:52:21.102553",
     "status": "completed"
    },
    "tags": []
   },
   "source": [
    "# Import necessary libraries\n"
   ]
  },
  {
   "cell_type": "code",
   "execution_count": 1,
   "id": "f1afb59d",
   "metadata": {
    "execution": {
     "iopub.execute_input": "2023-07-19T10:52:21.120385Z",
     "iopub.status.busy": "2023-07-19T10:52:21.119963Z",
     "iopub.status.idle": "2023-07-19T10:52:21.342668Z",
     "shell.execute_reply": "2023-07-19T10:52:21.341405Z"
    },
    "papermill": {
     "duration": 0.232086,
     "end_time": "2023-07-19T10:52:21.345558",
     "exception": false,
     "start_time": "2023-07-19T10:52:21.113472",
     "status": "completed"
    },
    "tags": []
   },
   "outputs": [],
   "source": [
    "import requests\n",
    "from bs4 import BeautifulSoup\n"
   ]
  },
  {
   "cell_type": "markdown",
   "id": "bf8c6958",
   "metadata": {
    "papermill": {
     "duration": 0.004539,
     "end_time": "2023-07-19T10:52:21.354968",
     "exception": false,
     "start_time": "2023-07-19T10:52:21.350429",
     "status": "completed"
    },
    "tags": []
   },
   "source": [
    "# 1. Define the URL of the website you want to scrape\n"
   ]
  },
  {
   "cell_type": "code",
   "execution_count": 2,
   "id": "6c9aafe1",
   "metadata": {
    "execution": {
     "iopub.execute_input": "2023-07-19T10:52:21.366450Z",
     "iopub.status.busy": "2023-07-19T10:52:21.365791Z",
     "iopub.status.idle": "2023-07-19T10:52:21.371520Z",
     "shell.execute_reply": "2023-07-19T10:52:21.370282Z"
    },
    "papermill": {
     "duration": 0.01447,
     "end_time": "2023-07-19T10:52:21.374143",
     "exception": false,
     "start_time": "2023-07-19T10:52:21.359673",
     "status": "completed"
    },
    "tags": []
   },
   "outputs": [],
   "source": [
    "url = 'https://elzero.org/category/topics/'\n"
   ]
  },
  {
   "cell_type": "markdown",
   "id": "79635f07",
   "metadata": {
    "papermill": {
     "duration": 0.005628,
     "end_time": "2023-07-19T10:52:21.384725",
     "exception": false,
     "start_time": "2023-07-19T10:52:21.379097",
     "status": "completed"
    },
    "tags": []
   },
   "source": [
    "# Send a GET request to the website and retrieve the HTML content\n"
   ]
  },
  {
   "cell_type": "code",
   "execution_count": 3,
   "id": "e1789afa",
   "metadata": {
    "execution": {
     "iopub.execute_input": "2023-07-19T10:52:21.396316Z",
     "iopub.status.busy": "2023-07-19T10:52:21.395911Z",
     "iopub.status.idle": "2023-07-19T10:52:21.507624Z",
     "shell.execute_reply": "2023-07-19T10:52:21.506493Z"
    },
    "papermill": {
     "duration": 0.121369,
     "end_time": "2023-07-19T10:52:21.511092",
     "exception": false,
     "start_time": "2023-07-19T10:52:21.389723",
     "status": "completed"
    },
    "tags": []
   },
   "outputs": [],
   "source": [
    "response = requests.get(url)\n",
    "html_content = response.content"
   ]
  },
  {
   "cell_type": "markdown",
   "id": "0c336675",
   "metadata": {
    "papermill": {
     "duration": 0.004457,
     "end_time": "2023-07-19T10:52:21.520433",
     "exception": false,
     "start_time": "2023-07-19T10:52:21.515976",
     "status": "completed"
    },
    "tags": []
   },
   "source": [
    "# 2. Create a BeautifulSoup object to parse the HTML content\n"
   ]
  },
  {
   "cell_type": "code",
   "execution_count": 4,
   "id": "720b79c2",
   "metadata": {
    "execution": {
     "iopub.execute_input": "2023-07-19T10:52:21.531472Z",
     "iopub.status.busy": "2023-07-19T10:52:21.531075Z",
     "iopub.status.idle": "2023-07-19T10:52:21.541270Z",
     "shell.execute_reply": "2023-07-19T10:52:21.540005Z"
    },
    "papermill": {
     "duration": 0.018532,
     "end_time": "2023-07-19T10:52:21.543729",
     "exception": false,
     "start_time": "2023-07-19T10:52:21.525197",
     "status": "completed"
    },
    "tags": []
   },
   "outputs": [],
   "source": [
    "soup = BeautifulSoup(html_content, 'html.parser')\n"
   ]
  },
  {
   "cell_type": "markdown",
   "id": "3258617f",
   "metadata": {
    "papermill": {
     "duration": 0.004406,
     "end_time": "2023-07-19T10:52:21.552975",
     "exception": false,
     "start_time": "2023-07-19T10:52:21.548569",
     "status": "completed"
    },
    "tags": []
   },
   "source": [
    "# Extract the desired information from the website\n",
    "# let's extract all the paragraph text from the website"
   ]
  },
  {
   "cell_type": "code",
   "execution_count": 5,
   "id": "98f30916",
   "metadata": {
    "execution": {
     "iopub.execute_input": "2023-07-19T10:52:21.564448Z",
     "iopub.status.busy": "2023-07-19T10:52:21.564068Z",
     "iopub.status.idle": "2023-07-19T10:52:21.569078Z",
     "shell.execute_reply": "2023-07-19T10:52:21.567865Z"
    },
    "papermill": {
     "duration": 0.013869,
     "end_time": "2023-07-19T10:52:21.571549",
     "exception": false,
     "start_time": "2023-07-19T10:52:21.557680",
     "status": "completed"
    },
    "tags": []
   },
   "outputs": [],
   "source": [
    "paragraphs = soup.find_all('p')\n"
   ]
  },
  {
   "cell_type": "markdown",
   "id": "320d0dba",
   "metadata": {
    "papermill": {
     "duration": 0.004529,
     "end_time": "2023-07-19T10:52:21.580809",
     "exception": false,
     "start_time": "2023-07-19T10:52:21.576280",
     "status": "completed"
    },
    "tags": []
   },
   "source": [
    "# 3. Save the result in a text file\n"
   ]
  },
  {
   "cell_type": "code",
   "execution_count": 6,
   "id": "788ea083",
   "metadata": {
    "execution": {
     "iopub.execute_input": "2023-07-19T10:52:21.592357Z",
     "iopub.status.busy": "2023-07-19T10:52:21.591670Z",
     "iopub.status.idle": "2023-07-19T10:52:21.598377Z",
     "shell.execute_reply": "2023-07-19T10:52:21.597137Z"
    },
    "papermill": {
     "duration": 0.015489,
     "end_time": "2023-07-19T10:52:21.601003",
     "exception": false,
     "start_time": "2023-07-19T10:52:21.585514",
     "status": "completed"
    },
    "tags": []
   },
   "outputs": [],
   "source": [
    "output_folder_path = '/kaggle/working/'\n",
    "output_file_path = output_folder_path + 'web_scraping_result.txt'\n",
    "with open('web_scraping_result.txt', 'w', encoding='utf-8') as file:\n",
    "    for paragraph in paragraphs:\n",
    "        file.write(paragraph.get_text() + '\\n')"
   ]
  },
  {
   "cell_type": "markdown",
   "id": "e1f0a728",
   "metadata": {
    "papermill": {
     "duration": 0.004432,
     "end_time": "2023-07-19T10:52:21.610433",
     "exception": false,
     "start_time": "2023-07-19T10:52:21.606001",
     "status": "completed"
    },
    "tags": []
   },
   "source": [
    "# Print a success message\n"
   ]
  },
  {
   "cell_type": "code",
   "execution_count": 7,
   "id": "07160e51",
   "metadata": {
    "execution": {
     "iopub.execute_input": "2023-07-19T10:52:21.623827Z",
     "iopub.status.busy": "2023-07-19T10:52:21.623128Z",
     "iopub.status.idle": "2023-07-19T10:52:21.629491Z",
     "shell.execute_reply": "2023-07-19T10:52:21.628398Z"
    },
    "papermill": {
     "duration": 0.015688,
     "end_time": "2023-07-19T10:52:21.632247",
     "exception": false,
     "start_time": "2023-07-19T10:52:21.616559",
     "status": "completed"
    },
    "tags": []
   },
   "outputs": [
    {
     "name": "stdout",
     "output_type": "stream",
     "text": [
      "Web scraping result saved in web_scraping_result.txt\n"
     ]
    }
   ],
   "source": [
    "print('Web scraping result saved in web_scraping_result.txt')\n"
   ]
  }
 ],
 "metadata": {
  "kernelspec": {
   "display_name": "Python 3",
   "language": "python",
   "name": "python3"
  },
  "language_info": {
   "codemirror_mode": {
    "name": "ipython",
    "version": 3
   },
   "file_extension": ".py",
   "mimetype": "text/x-python",
   "name": "python",
   "nbconvert_exporter": "python",
   "pygments_lexer": "ipython3",
   "version": "3.10.12"
  },
  "papermill": {
   "default_parameters": {},
   "duration": 13.538865,
   "end_time": "2023-07-19T10:52:22.560708",
   "environment_variables": {},
   "exception": null,
   "input_path": "__notebook__.ipynb",
   "output_path": "__notebook__.ipynb",
   "parameters": {},
   "start_time": "2023-07-19T10:52:09.021843",
   "version": "2.4.0"
  }
 },
 "nbformat": 4,
 "nbformat_minor": 5
}
